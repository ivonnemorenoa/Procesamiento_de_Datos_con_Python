{
 "cells": [
  {
   "cell_type": "markdown",
   "metadata": {},
   "source": [
    "### Estructuras de datos y funciones\n",
    "\n",
    "##### Listas\n",
    "\n",
    "las listas son uno de los tipos de estructuras de datos que podemos utilizar en Python. Una estructura de datos nos sirve para organizar datos y para optimizar el acceso, procesamiento y uso de éstos. Las listas son secuencias ordenadas de datos y se ven así:"
   ]
  },
  {
   "cell_type": "code",
   "execution_count": 3,
   "metadata": {},
   "outputs": [
    {
     "data": {
      "text/plain": [
       "4"
      ]
     },
     "execution_count": 3,
     "metadata": {},
     "output_type": "execute_result"
    }
   ],
   "source": [
    "lista_de_floats = [1.4, 5.78, 2.34, 5.21, 8.9]\n",
    "lista_de_strings = [\"Hola\", \"mundo\", \"me\", \"llamo\", \"Marco P.\"]\n",
    "lista_de_booleanos = [True, False, True, True, False, False]\n",
    "lista_de_listas_de_ints = [[1, 4, 3], [6, 8, 7], [2, 4, 3], [0, 9, 8]]\n",
    "lista_mixta = [3, True, 7.5, [3, 5, 4], \"Hola\"]\n",
    "lista_1 = [4, 8, 3, 6, 2]\n",
    "lista_1[0]"
   ]
  },
  {
   "cell_type": "code",
   "execution_count": 5,
   "metadata": {},
   "outputs": [
    {
     "name": "stdout",
     "output_type": "stream",
     "text": [
      "6\n",
      "3\n"
     ]
    }
   ],
   "source": [
    "print(lista_1[3])\n",
    "print(lista_1[2])"
   ]
  },
  {
   "cell_type": "code",
   "execution_count": 11,
   "metadata": {},
   "outputs": [
    {
     "data": {
      "text/plain": [
       "[4, 7, 6, 2, 5, 10]"
      ]
     },
     "execution_count": 11,
     "metadata": {},
     "output_type": "execute_result"
    }
   ],
   "source": [
    "lista_2 = [4, 7, 6, 2, 5]\n",
    "lista_2.append(10) # se agrega objeto al final de la lista,  la lista originalmente era hasta el número 5.\n",
    "lista_2"
   ]
  },
  {
   "cell_type": "code",
   "execution_count": 16,
   "metadata": {},
   "outputs": [
    {
     "data": {
      "text/plain": [
       "['Woopsie Doopsies', 'Omega-3', 'Justin Bieber', 'La Twinkle']"
      ]
     },
     "execution_count": 16,
     "metadata": {},
     "output_type": "execute_result"
    }
   ],
   "source": [
    "estrellas = ['Woopsie Doopsies', 'Omega-3', 'Justin Bieber', 'La Twinkle', 'Rosaberta']\n",
    "estrellas.pop() # remueve la ultima posición si esta vacío, si le pones un número en los parentesis, te quita el que se encuentra en la posición.\n",
    "estrellas"
   ]
  },
  {
   "cell_type": "code",
   "execution_count": 17,
   "metadata": {},
   "outputs": [
    {
     "data": {
      "text/plain": [
       "['Woopsie Doopsies',\n",
       " 'Omega-3',\n",
       " 'Britney Baby',\n",
       " 'Justin Bieber',\n",
       " 'La Twinkle',\n",
       " 'Rosaberta']"
      ]
     },
     "execution_count": 17,
     "metadata": {},
     "output_type": "execute_result"
    }
   ],
   "source": [
    "estrellas = ['Woopsie Doopsies', 'Omega-3', 'Justin Bieber', 'La Twinkle', 'Rosaberta']\n",
    "estrellas.insert(2, 'Britney Baby') # te inserta en la posición que le indiques.\n",
    "estrellas"
   ]
  },
  {
   "cell_type": "markdown",
   "metadata": {},
   "source": [
    "##### Tipos de Datos en una lista\n",
    "\n",
    "Una lista puede contener cualquier tipo de dato de los que ya conocemos (incluso otras listas)."
   ]
  },
  {
   "cell_type": "code",
   "execution_count": 18,
   "metadata": {},
   "outputs": [],
   "source": [
    "lista_de_ints = [1, 5, 8, 77, 45, 30]\n",
    "lista_de_floats = [2.4, 5.67, 8.7, 9.34]\n",
    "lista_de_strings = [\"Juan\", \"Pepe\", \"Pedro\", \"Jose\"]\n",
    "lista_de_booleanos = [True, False, False, True, False]\n",
    "lista_de_listas_de_ints = [[3, 4, 6], [7, 8, 9], [4, 6, 2]]"
   ]
  },
  {
   "cell_type": "code",
   "execution_count": 19,
   "metadata": {},
   "outputs": [
    {
     "name": "stdout",
     "output_type": "stream",
     "text": [
      "Primer elemento de la lista: 4\n",
      "Último elemento de la lista: 2\n"
     ]
    }
   ],
   "source": [
    "print(f'Primer elemento de la lista: {lista_1[0]}')\n",
    "print(f'Último elemento de la lista: {lista_1[4]}')"
   ]
  },
  {
   "cell_type": "markdown",
   "metadata": {},
   "source": [
    "Python nos permite acceder a los elementos empezando desde el último elemento hasta el primero (al revés, pues). Esto se hace usando números negativos. O sea que para acceder al último número puedo usar un -1, para acceder al penúltimo número puedo usar -2 y así consecutivamente:"
   ]
  },
  {
   "cell_type": "code",
   "execution_count": 21,
   "metadata": {},
   "outputs": [
    {
     "name": "stdout",
     "output_type": "stream",
     "text": [
      "2\n",
      "6\n"
     ]
    }
   ],
   "source": [
    "print(lista_1[-1]) # el último número de la lista es \"2\"\n",
    "print(lista_1[-2]) # el penúltimo número de la lista es \"6\""
   ]
  },
  {
   "cell_type": "code",
   "execution_count": 23,
   "metadata": {},
   "outputs": [
    {
     "name": "stdout",
     "output_type": "stream",
     "text": [
      "[1, 2, 3, 4, 5]\n",
      "[1, 2, 3, 4, 5]\n"
     ]
    }
   ],
   "source": [
    "lista_con_valores_crudos = [1, 2, 3, 4, 5]\n",
    "\n",
    "uno = 1\n",
    "dos = 2\n",
    "tres = 3\n",
    "cuatro = 4\n",
    "cinco = 5\n",
    "\n",
    "lista_con_variables = [uno, dos, tres, cuatro, cinco] # porque no tiene comillas como string\n",
    "\n",
    "print(lista_con_valores_crudos)\n",
    "print(lista_con_variables)"
   ]
  },
  {
   "cell_type": "markdown",
   "metadata": {},
   "source": [
    "##### Creando y accesando a diccionarios\n",
    "\n",
    "Los diccionarios se definen usando llaves ({}). diccionario_1 es un diccionario, sólo que está vacío. Para incluir datos dentro de un diccionario, tenemos que agregar pares llave-valor dentro de las llaves ({}). Cada par llave-valor se separa con una coma (,):"
   ]
  },
  {
   "cell_type": "code",
   "execution_count": 26,
   "metadata": {},
   "outputs": [],
   "source": [
    "diccionario_1 = {}"
   ]
  },
  {
   "cell_type": "code",
   "execution_count": 27,
   "metadata": {},
   "outputs": [],
   "source": [
    "diccionario_2 = {\n",
    "    \"llave_1\": \"valor_1\",\n",
    "    \"llave_2\": \"valor_2\",\n",
    "    \"llave_3\": \"valor_3\",\n",
    "    \"llave_4\": \"valor_4\"\n",
    "}"
   ]
  },
  {
   "cell_type": "markdown",
   "metadata": {},
   "source": [
    "Nuestras llaves pueden ser tanto strings como ints (pueden ser otras cosas, pero estos son los más comunes):"
   ]
  },
  {
   "cell_type": "code",
   "execution_count": 28,
   "metadata": {},
   "outputs": [],
   "source": [
    "diccionario_3 = {\n",
    "    1: \"Uno\",\n",
    "    2: \"Dos\",\n",
    "    3: \"Tres\",\n",
    "    4: \"Cuatro\"\n",
    "}"
   ]
  },
  {
   "cell_type": "code",
   "execution_count": 29,
   "metadata": {},
   "outputs": [],
   "source": [
    "diccionario_4 = {\n",
    "    \"int\": 123,\n",
    "    \"float\": 23.56,\n",
    "    \"string\": \"Hola\",\n",
    "    \"booleano\": True,\n",
    "    \"lista\": [1, 2, 3, 4],\n",
    "    \"diccionario\": {\n",
    "        1: \"uno\",\n",
    "        2: \"dos\"\n",
    "    }\n",
    "}"
   ]
  },
  {
   "cell_type": "markdown",
   "metadata": {},
   "source": [
    "Acceder a un diccionario es tan fácil como escribir el nombre del diccionario, agregar corchetes ([]) y pasarle el nombre de la llave que quieres acceder. Por obvias razones, un diccionario no puede tener más de una llave con el mismo nombre. Si tenemos otras estructuras de datos dentro de nuestro diccionario, podemos acceder a los elementos dentro de ellas después de haber accedido primero a toda la estructura de datos."
   ]
  },
  {
   "cell_type": "code",
   "execution_count": 30,
   "metadata": {},
   "outputs": [
    {
     "name": "stdout",
     "output_type": "stream",
     "text": [
      "23.56\n",
      "True\n",
      "4\n",
      "uno\n"
     ]
    }
   ],
   "source": [
    "print(diccionario_4[\"float\"])\n",
    "print(diccionario_4[\"booleano\"])\n",
    "print(diccionario_4[\"lista\"][3])\n",
    "print(diccionario_4[\"diccionario\"][1])"
   ]
  },
  {
   "cell_type": "markdown",
   "metadata": {},
   "source": [
    "##### Modificando Diccionarios\n",
    "\n",
    "Para agregar un dato a un diccionario ya existente, basta con \"llamar\" la llave que queremos agregar y asignarle un valor:"
   ]
  },
  {
   "cell_type": "code",
   "execution_count": 31,
   "metadata": {},
   "outputs": [],
   "source": [
    "from pprint import pprint"
   ]
  },
  {
   "cell_type": "code",
   "execution_count": 34,
   "metadata": {},
   "outputs": [
    {
     "name": "stdout",
     "output_type": "stream",
     "text": [
      "{'dir': {'calle': 'Pilares',\n",
      "         'colonia': 'Del Valle Centro',\n",
      "         'cp': '03100',\n",
      "         'num': 69},\n",
      " 'nombre': 'Isabel',\n",
      " 'tel': 5546352431}\n"
     ]
    }
   ],
   "source": [
    "info_de_contacto = {\n",
    "    \"nombre\": \"Isabel\",\n",
    "    \"tel\": 5546352431,\n",
    "    \"dir\": {\n",
    "        \"colonia\": \"Del Valle Centro\", # Se imprimió pero acomodado por alfabeticamente\n",
    "        \"calle\": \"Pilares\",\n",
    "        \"num\": 69,\n",
    "        \"cp\": \"03100\"\n",
    "    }\n",
    "}\n",
    "\n",
    "pprint(info_de_contacto)"
   ]
  },
  {
   "cell_type": "code",
   "execution_count": 36,
   "metadata": {},
   "outputs": [
    {
     "name": "stdout",
     "output_type": "stream",
     "text": [
      "{'dir': {'calle': 'Pilares',\n",
      "         'colonia': 'Del Valle Centro',\n",
      "         'cp': '03100',\n",
      "         'num': 69},\n",
      " 'email': 'isabel.arriaga@gmail.com',\n",
      " 'nombre': 'Isabel',\n",
      " 'tel': 5546352431}\n"
     ]
    }
   ],
   "source": [
    "info_de_contacto[\"email\"] = \"isabel.arriaga@gmail.com\" # esta agregando a la lista más datos\n",
    "\n",
    "pprint(info_de_contacto)"
   ]
  },
  {
   "cell_type": "markdown",
   "metadata": {},
   "source": [
    "##### Modificar pares llave-valor existentes\n",
    "\n",
    "Para modificar un par llave-valor ya existente, basta con reasignar a una llave de nuestro diccionario el nuevo valor que queremos agregar. Por ejemplo, imaginemos que esta persona cambió de dirección:"
   ]
  },
  {
   "cell_type": "code",
   "execution_count": 39,
   "metadata": {},
   "outputs": [
    {
     "name": "stdout",
     "output_type": "stream",
     "text": [
      "{'dir': {'calle': 'Progreso', 'colonia': 'Escandón', 'cp': '11800', 'num': 189},\n",
      " 'email': 'isabel.arriaga@gmail.com',\n",
      " 'nombre': 'Isabel',\n",
      " 'tel': 5546352431}\n"
     ]
    }
   ],
   "source": [
    "info_de_contacto[\"dir\"] = {\n",
    "        \"colonia\": \"Escandón\",\n",
    "        \"calle\": \"Progreso\",\n",
    "        \"num\": 189,\n",
    "        \"cp\": \"11800\"\n",
    "    }\n",
    "\n",
    "pprint(info_de_contacto)"
   ]
  },
  {
   "cell_type": "code",
   "execution_count": 41,
   "metadata": {},
   "outputs": [
    {
     "name": "stdout",
     "output_type": "stream",
     "text": [
      "{'dir': {'calle': 'Progreso', 'colonia': 'Escandón', 'cp': '11800', 'num': 289},\n",
      " 'email': 'isabel.arriaga@gmail.com',\n",
      " 'nombre': 'Isabel',\n",
      " 'tel': 5546352431}\n"
     ]
    }
   ],
   "source": [
    "info_de_contacto[\"dir\"][\"num\"] = 289 # Podemos incluso modificar estructuras de datos dentro de nuestro diccionario. \n",
    "\n",
    "pprint(info_de_contacto)"
   ]
  },
  {
   "cell_type": "markdown",
   "metadata": {},
   "source": [
    "##### Eliminando datos\n",
    "\n",
    "Para eliminar datos, se puede usar el método pop. Como bien recordarás, el nombre de este método es idéntico al método para eliminar elementos de una lista. La diferencia es que el método pop de las listas recibe índices como argumentos, el método pop de diccionarios recibe llaves como argumentos:"
   ]
  },
  {
   "cell_type": "code",
   "execution_count": 42,
   "metadata": {},
   "outputs": [
    {
     "name": "stdout",
     "output_type": "stream",
     "text": [
      "{'dir': {'calle': 'Progreso', 'colonia': 'Escandón', 'cp': '11800', 'num': 289},\n",
      " 'email': 'isabel.arriaga@gmail.com',\n",
      " 'nombre': 'Isabel'}\n"
     ]
    }
   ],
   "source": [
    "info_de_contacto.pop(\"tel\")\n",
    "\n",
    "pprint(info_de_contacto)"
   ]
  },
  {
   "cell_type": "markdown",
   "metadata": {},
   "source": [
    "##### Funciones\n",
    "\n",
    "Queremos evitar repetir código en nuestro programa. En vez de escribir 10 veces el mismo proceso en diferentes lugares de nuestro código, podemos escribir una función que contenga ese proceso y simplemente usarla en los 10 lugares donde suceda ese proceso."
   ]
  },
  {
   "cell_type": "code",
   "execution_count": 43,
   "metadata": {},
   "outputs": [],
   "source": [
    "def multiplicar_numero_por_pi(numero): # Así se ve una función\n",
    "    resultado = numero * 3.14\n",
    "    \n",
    "    return resultado"
   ]
  },
  {
   "cell_type": "markdown",
   "metadata": {},
   "source": [
    "Es muy importante notar lo siguiente:\n",
    "\n",
    "1. La declaración comienza con la palabra def. \n",
    "2. El nombre de la función sigue las mismas convenciones de nombramiento que las variables (snake_case).\n",
    "3. Los parámetros de la función van dentro del paréntesis.\n",
    "4. Hay unos dos puntos (:) después del paréntesis que indican el inicio del bloque de la función\n",
    "5. El bloque de la función (todos los procesos que se van a llevar a cabo cuando llamemos la función) deben de estar indentados. Lo que está indentado es parte de la función. En cuanto hay una línea que no esté indentada, eso indica que la definición de la función ha terminado.\n",
    "6. Las funciones tienen una sentencia return que regresa el resultado de nuestro proceso para que pueda ser utilizado en otras partes de nuestro programa."
   ]
  },
  {
   "cell_type": "markdown",
   "metadata": {},
   "source": [
    "##### Parámetros\n",
    "\n",
    "> Los parámetros de una función son los nombres de los valores que le pasamos a la función cada vez que la llamamos. La función utiliza estos parámetros para realizar sus procesos. Estos parámetros son los ingredientes necesarios para que la función lleve a cabo su proceso. Sin parámetros, las funciones harían siempre lo mismo:"
   ]
  },
  {
   "cell_type": "code",
   "execution_count": 44,
   "metadata": {},
   "outputs": [
    {
     "name": "stdout",
     "output_type": "stream",
     "text": [
      "20\n",
      "20\n",
      "20\n"
     ]
    }
   ],
   "source": [
    "def esta_funcion_hace_siempre_lo_mismo():\n",
    "    \n",
    "    resultado = 2 * 10\n",
    "    \n",
    "    return resultado\n",
    "\n",
    "print(esta_funcion_hace_siempre_lo_mismo())\n",
    "print(esta_funcion_hace_siempre_lo_mismo())\n",
    "print(esta_funcion_hace_siempre_lo_mismo())"
   ]
  },
  {
   "cell_type": "code",
   "execution_count": 45,
   "metadata": {},
   "outputs": [
    {
     "name": "stdout",
     "output_type": "stream",
     "text": [
      "40\n",
      "100\n",
      "660\n"
     ]
    }
   ],
   "source": [
    "def esta_funcion_multiplica_el_argumento_por_10_y_lo_regresa(parametro):\n",
    "    \n",
    "    resultado = parametro * 10\n",
    "    \n",
    "    return resultado\n",
    "\n",
    "print(esta_funcion_multiplica_el_argumento_por_10_y_lo_regresa(4))\n",
    "print(esta_funcion_multiplica_el_argumento_por_10_y_lo_regresa(10))\n",
    "print(esta_funcion_multiplica_el_argumento_por_10_y_lo_regresa(66))"
   ]
  },
  {
   "cell_type": "code",
   "execution_count": 46,
   "metadata": {},
   "outputs": [
    {
     "data": {
      "text/plain": [
       "[2, 34, 26, 88, 4, 66]"
      ]
     },
     "execution_count": 46,
     "metadata": {},
     "output_type": "execute_result"
    }
   ],
   "source": [
    "def agregar_numero_a_lista_si_el_numero_es_par(lista, numero): # veamos una función con dos parámetros\n",
    "    \n",
    "    if numero % 2 == 0:\n",
    "        lista.append(numero)\n",
    "        \n",
    "    return lista\n",
    "\n",
    "lista_de_ints = [2, 34, 26, 88, 4]\n",
    "\n",
    "lista_de_ints = agregar_numero_a_lista_si_el_numero_es_par(lista_de_ints, 5)\n",
    "lista_de_ints = agregar_numero_a_lista_si_el_numero_es_par(lista_de_ints, 66)\n",
    "\n",
    "lista_de_ints"
   ]
  },
  {
   "cell_type": "markdown",
   "metadata": {},
   "source": [
    "##### Return\n",
    "\n",
    "Todas las funciones que hemos definido hasta ahora tienen al final una sentencia return. return regresa el valor que escribimos a su derecha, que normalmente es el resultado del proceso que hemos realizado dentro de la función.\n",
    "\n",
    "Si no hubiera return, los procesos que suceden dentro de nuestras funciones se quedarían ahí y no podríamos acceder a los resultados. Eso no sería muy útil que digamos, ¿no es así?\n",
    "\n",
    "El valor que regresa nuestro return lo podemos guardar en otra variable para usarlo en el futuro o podemos imprimirlo directamente usando un print (aunque es recomendable mejor primero asignarlo a una variable y después imprimir la variable):"
   ]
  },
  {
   "cell_type": "markdown",
   "metadata": {},
   "source": [
    "En esta función checamos primero si un valor es mayor a 50 (valor > 50). Si lo es, checamos ahora que sea menor a 60 (valor < 60). Si también lo es, quiere decir que el valor está entre 50 y 60 y la función regresa True. Si las condiciones no se cumplen, la función regresa False. Los resultado de llamar a las función con los valores 58 y 89 son guardados en variables, que después se utilizan en una nueva condición que determina si una string deberá imprimirse o no."
   ]
  },
  {
   "cell_type": "code",
   "execution_count": 47,
   "metadata": {},
   "outputs": [
    {
     "name": "stdout",
     "output_type": "stream",
     "text": [
      "El primer valor es mayor a 50 y menor a 60\n"
     ]
    }
   ],
   "source": [
    "def regresa_true_si_el_valor_esta_entre_50_y_60(valor):\n",
    "    \n",
    "    if valor > 50:\n",
    "        if valor < 60:\n",
    "            return True\n",
    "    \n",
    "    return False\n",
    "\n",
    "resultado_1 = regresa_true_si_el_valor_esta_entre_50_y_60(58)\n",
    "resultado_2 = regresa_true_si_el_valor_esta_entre_50_y_60(89)\n",
    "\n",
    "if resultado_1 == True:\n",
    "    print(\"El primer valor es mayor a 50 y menor a 60\")\n",
    "\n",
    "if resultado_2 == True:\n",
    "    print(\"El segundo valor es mayor a 50 y menor a 60\")"
   ]
  },
  {
   "cell_type": "markdown",
   "metadata": {},
   "source": [
    "> Para terminar, es importante recordar algo que vimos en el Prework: Las variables definidas dentro de una función (ya sean parámetros o variables asignadas dentro de la función) sólo pueden ser accedidas dentro de la función. Una vez que la función termina, las variables desaparecen y no son accesibles desde ninguna parte de nuestro código."
   ]
  }
 ],
 "metadata": {
  "kernelspec": {
   "display_name": "Python 3",
   "language": "python",
   "name": "python3"
  },
  "language_info": {
   "codemirror_mode": {
    "name": "ipython",
    "version": 3
   },
   "file_extension": ".py",
   "mimetype": "text/x-python",
   "name": "python",
   "nbconvert_exporter": "python",
   "pygments_lexer": "ipython3",
   "version": "3.13.0"
  }
 },
 "nbformat": 4,
 "nbformat_minor": 2
}
