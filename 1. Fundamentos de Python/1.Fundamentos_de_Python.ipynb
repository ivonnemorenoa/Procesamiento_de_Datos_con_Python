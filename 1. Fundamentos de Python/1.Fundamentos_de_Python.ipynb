{
 "cells": [
  {
   "cell_type": "markdown",
   "metadata": {},
   "source": [
    "# Bienvenidos al seguimiento de Ánalisis de datos con Python."
   ]
  },
  {
   "cell_type": "markdown",
   "metadata": {},
   "source": [
    "En JN tenemos modo comando y modo edicion.\n",
    "* Una celda markdown (de texto), muestra el texto estilizado al ser corrida\n",
    "* Una celda de código corre el código que contiene y muestra el output debajo"
   ]
  },
  {
   "cell_type": "code",
   "execution_count": null,
   "metadata": {},
   "outputs": [],
   "source": []
  },
  {
   "cell_type": "code",
   "execution_count": 1,
   "metadata": {},
   "outputs": [],
   "source": [
    "import pandas as pd\n",
    "import numpy as np\n",
    "import matplotlib as plt"
   ]
  },
  {
   "cell_type": "markdown",
   "metadata": {},
   "source": [
    "### Importar archivo excel o csv"
   ]
  },
  {
   "cell_type": "code",
   "execution_count": 7,
   "metadata": {},
   "outputs": [],
   "source": [
    "df_potions = pd.read_csv(\"potions.csv\", delimiter=\";\")"
   ]
  },
  {
   "cell_type": "code",
   "execution_count": 8,
   "metadata": {},
   "outputs": [
    {
     "name": "stdout",
     "output_type": "stream",
     "text": [
      "Primeras lineas del dataset:\n"
     ]
    },
    {
     "data": {
      "text/html": [
       "<div>\n",
       "<style scoped>\n",
       "    .dataframe tbody tr th:only-of-type {\n",
       "        vertical-align: middle;\n",
       "    }\n",
       "\n",
       "    .dataframe tbody tr th {\n",
       "        vertical-align: top;\n",
       "    }\n",
       "\n",
       "    .dataframe thead th {\n",
       "        text-align: right;\n",
       "    }\n",
       "</style>\n",
       "<table border=\"1\" class=\"dataframe\">\n",
       "  <thead>\n",
       "    <tr style=\"text-align: right;\">\n",
       "      <th></th>\n",
       "      <th>Name</th>\n",
       "      <th>Known ingredients</th>\n",
       "      <th>Effect</th>\n",
       "      <th>Characteristics</th>\n",
       "      <th>Difficulty level</th>\n",
       "    </tr>\n",
       "  </thead>\n",
       "  <tbody>\n",
       "    <tr>\n",
       "      <th>0</th>\n",
       "      <td>Ageing Potion</td>\n",
       "      <td>Newt spleens , Bananas</td>\n",
       "      <td>Ages drinker temporarily</td>\n",
       "      <td>Green</td>\n",
       "      <td>Advanced</td>\n",
       "    </tr>\n",
       "    <tr>\n",
       "      <th>1</th>\n",
       "      <td>Amortentia</td>\n",
       "      <td>NaN</td>\n",
       "      <td>Love Potion that causes a powerful infatuation...</td>\n",
       "      <td>Mother-of-pearl sheen, Spiralling steam, Scent...</td>\n",
       "      <td>Advanced</td>\n",
       "    </tr>\n",
       "    <tr>\n",
       "      <th>2</th>\n",
       "      <td>Antidote to Veritaserum</td>\n",
       "      <td>NaN</td>\n",
       "      <td>Counters the effect of Veritaserum</td>\n",
       "      <td>NaN</td>\n",
       "      <td>NaN</td>\n",
       "    </tr>\n",
       "    <tr>\n",
       "      <th>3</th>\n",
       "      <td>Babbling Beverage</td>\n",
       "      <td>Valerian sprigs, Aconite, Dittany</td>\n",
       "      <td>Causes the drinker to speak nonsense</td>\n",
       "      <td>NaN</td>\n",
       "      <td>NaN</td>\n",
       "    </tr>\n",
       "    <tr>\n",
       "      <th>4</th>\n",
       "      <td>Baruffio's Brain Elixir</td>\n",
       "      <td>Leaping Toadstools, Frog Brains, Runespoor egg...</td>\n",
       "      <td>Allegedly increases one's brain power</td>\n",
       "      <td>Green in colour</td>\n",
       "      <td>NaN</td>\n",
       "    </tr>\n",
       "  </tbody>\n",
       "</table>\n",
       "</div>"
      ],
      "text/plain": [
       "                      Name                                  Known ingredients  \\\n",
       "0            Ageing Potion                             Newt spleens , Bananas   \n",
       "1               Amortentia                                                NaN   \n",
       "2  Antidote to Veritaserum                                                NaN   \n",
       "3        Babbling Beverage                  Valerian sprigs, Aconite, Dittany   \n",
       "4  Baruffio's Brain Elixir  Leaping Toadstools, Frog Brains, Runespoor egg...   \n",
       "\n",
       "                                              Effect  \\\n",
       "0                           Ages drinker temporarily   \n",
       "1  Love Potion that causes a powerful infatuation...   \n",
       "2                 Counters the effect of Veritaserum   \n",
       "3               Causes the drinker to speak nonsense   \n",
       "4              Allegedly increases one's brain power   \n",
       "\n",
       "                                     Characteristics Difficulty level  \n",
       "0                                              Green         Advanced  \n",
       "1  Mother-of-pearl sheen, Spiralling steam, Scent...         Advanced  \n",
       "2                                                NaN              NaN  \n",
       "3                                                NaN              NaN  \n",
       "4                                    Green in colour              NaN  "
      ]
     },
     "execution_count": 8,
     "metadata": {},
     "output_type": "execute_result"
    }
   ],
   "source": [
    "print(\"Primeras lineas del dataset:\")\n",
    "df_potions.head()"
   ]
  },
  {
   "cell_type": "code",
   "execution_count": null,
   "metadata": {},
   "outputs": [],
   "source": []
  }
 ],
 "metadata": {
  "kernelspec": {
   "display_name": ".venv",
   "language": "python",
   "name": "python3"
  },
  "language_info": {
   "codemirror_mode": {
    "name": "ipython",
    "version": 3
   },
   "file_extension": ".py",
   "mimetype": "text/x-python",
   "name": "python",
   "nbconvert_exporter": "python",
   "pygments_lexer": "ipython3",
   "version": "3.13.0"
  }
 },
 "nbformat": 4,
 "nbformat_minor": 2
}
